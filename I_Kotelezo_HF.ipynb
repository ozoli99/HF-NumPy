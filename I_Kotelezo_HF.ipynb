{
  "cells": [
    {
      "cell_type": "markdown",
      "metadata": {
        "id": "IkN9M2r3ZCrg"
      },
      "source": [
        "# 1. házi feladat\n"
      ]
    },
    {
      "cell_type": "markdown",
      "metadata": {
        "id": "UCbBHmRu5Gx9"
      },
      "source": [
        "\n",
        "Az első házi feladat célja a Python és NumPy szoftveres ismeretek felmérése. \n",
        "\n",
        "A három feladatcsoportból (A, B, C) egyet-egyet kell mindenkinek megoldania. **Arról, hogy ki melyiket oldja meg, az alábbi linken található lista ad tájékoztatást** Neptun-kód - feladatok listája formában: http://nipg12.inf.elte.hu/~vavsaai@nipg.lab/annbsc22_p1_hw1/annbsc22_p1_hw1_assignments.txt \n",
        "\n",
        "(backup: https://drive.google.com/file/d/1xxYrv8Uqwmu1XYr1gohKfBtkEUlbIzb1/view?usp=sharing)\n",
        "\n",
        "\n",
        "A feladatok megoldásához nem lehet semmilyen egyéb csomagot importálni: kizárólag beépített függvények és adatszerkezetek, valamint az adott feladathoz előre importált csomagok használhatók (1. feladat: `time`, 2. és 3. feladat: `numpy`). Minden feladat automatikus tesztekkel rendelkezik. A megoldást a feladathoz tartozó **Megoldás** felirat utáni cellába kell írni. A tesztek a **Tesztek** felirat utáni cellában találhatók az egyes feladatokhoz. Ha a teszt futtatásakor az OK felirat megjelenik, _feltehetően_ jó a megoldás, de a 2. és 3. feladatoknál egyéb feltételeket is teljesíteni kell, melyek csak manuálisan lesznek ellenőrzive beadás után. A beadott házi feladatok gépi tanulás alapú plágiumellenőrzésen esnek át. Másolás gyanújának felmerülése esetén mind a másolat(ok), mind az azt/azokat ihlető eredeti megoldások visszautasíthatók.\n",
        "\n",
        "**Google Colab**\n",
        "\n",
        "A Google Colab használatáról az alábbi notebook elején találtok leírást: https://colab.research.google.com/drive/1_dti2w4s5D8BVn5QZkPXuLX4-VCeI5xL\n",
        "\n",
        "**!!! A feladatok megoldását, vagy az arra mutató linkeket bárhol közzétenni tilos !!!**\n",
        "\n",
        "Elakadás esetén javasolt átnézni a Canvason megosztott segédanyag notebookokat, továbbá a Canvas fórumon kérhető segítség, de másik hallgató által legfeljebb olyan jellegű válasz adható, hogy melyik függvényt érdemes megpróbálni, vagy például egy hasonló példához hogyan kellene a tömböt indexelni. **Akár kérdésben, akár válaszban a megoldás jelentős részét tartalmazó kódrészletet közzétenni tilos.**\n",
        "\n",
        "**Megoldás és beküldés menete:**\n",
        "\n",
        "A közzétett, feladatokat tartalmazó Google Colab notebook csak \"view\" jogosultságokkal van megosztva, így, bár a notebook szerkeszthetőnek látszik, az úgynevezett \"Playground\" módban nyílik meg, ahol a változtatások nem lesznek mentve. Mindenkinek le kell másolnia a saját Drive-jára a notebook-ot (Google Colab file menü -> Save a copy to Drive): a másolat már maradandóan szerkeszthető és futtatható lesz. **A kész megoldást tartalmazó notebook-ot le kell tölteni**  (Google Colab file menü -> Download .ipynb), **majd a Canvas-ban, a kiírt feladatnál feltölteni.** Link nem adható be, csak az .ipynb fájl. Alternatívaként, Google Colab helyett saját gépen futó Python-nal és Jupyter-rel is szerkeszthetők és futtathatók .ipynb notebookok. **Kérjük a notebook szerkezetét nem módosítani és nem szétszedni külön feladatok szerint!**\n",
        "\n",
        "**Első határidő:** 2022. március 27., vasárnap, 23:59.\n",
        "\n",
        "**Végső határidő:** 2022. április 19., kedd, 23:59. - **!!! A végső határidőig mindenkinek az oktatók által elfogadható, beadott megoldással kell rendelkeznie, ezt követően pótlásra és/vagy javításra nincs lehetőség. !!!**\n",
        "\n",
        "**Pontozás:** A házi feladat helyes megoldása feltétele a jegyszerzésnek. Az, aki az első határidőig teljes, legfeljebb apró hibákat tartalmazó megoldást adott be, 2 extra pontot kap.\n",
        "\n"
      ]
    },
    {
      "cell_type": "markdown",
      "metadata": {
        "id": "D9Al8bIVU8se"
      },
      "source": [
        "## A/1\n",
        "\n",
        "**WebActivityLogger**\n",
        "\n",
        "Egy webes tevékenységeket naplózó osztályt (**WebActivityLogger**) kell készítened, mely eltárolja a felhasználók tevékenységeit és ezek időpontjait. A példányosított **WebActivityLogger** objektumba bejegyezhetők felhasználók nevei, majd az egyes felhasználókhoz hozzáadhatók tevékenységek (string-ekkel reprezentálva), melyekhez eltárolásra kerül a bejegyzés időpontja lebegőpontos (float) számként reprezentálva.\n",
        "\n",
        "Az aktuális időt a `time` modul `time()` függvényével lehet lekérdezni, ez egy lebegőpontos számot ad vissza, ami az 1970. január 1. óta eltelt másodpercek számát tárolja.\n",
        "\n",
        "Az osztály neve legyen **WebActivityLogger**. Hat publikus metódusa van:\n",
        "* ``is_valid_username(uname) -> bool``: visszaad egy logikai változót, amely azt jelzi, hogy szabályos-e az ``uname`` paraméterben megadott felhasználónév. A szabályos felhasználónév hossza 8 és 20 karakter közötti string, csak számokat és betűket tartalmaz és még nem foglalt.\n",
        "* ``add_user(uname)``: ha szabályos a megadott felhasználónév, eltárolja azt, ha nem, *UserNameInvalidException* hibát vált ki.\n",
        "* ``get_users() -> [str]``: visszaadja az eltárolt felhasználóneveket egy listában.\n",
        "* ``log_activity(uname, activity)``: ha létezik a felhasználónév, az ``uname`` felhasználóhoz bejegyzi az ``acitivity`` tevékenységet (`str` típusú) és annak időpontját. Ha a felhasználónév nem létezik, *UserNotExistsException* hibát vált ki.\n",
        "* ``get_all_activities() -> [(str, float)]``: visszaadja az összes aktivitási adatot egy listában. A lista elemei kételemű tuple-ök az aktivitás sztringekkel és a hozzájuk bejegyzett időpontokkal.\n",
        "* ``get_users_with_many_logins(num_logs) -> [str]``: visszaadja azon felhasználók nevét egy listában, akik a \"login\" nevű akciót legalább `num_logs` alkalommal hajtották végre.\n",
        "\n"
      ]
    },
    {
      "cell_type": "markdown",
      "metadata": {
        "id": "6yHQC_gxy00q"
      },
      "source": [
        "### Megoldás"
      ]
    },
    {
      "cell_type": "code",
      "execution_count": 2,
      "metadata": {
        "id": "fpacZD2LpDQx"
      },
      "outputs": [],
      "source": [
        "import time\n",
        "\n",
        "# Your solution ->\n",
        "\n",
        "class UserNameInvalidException(Exception):\n",
        "    pass\n",
        "class UserNotExistsException(Exception):\n",
        "    pass\n",
        "\n",
        "class WebActivityLogger:\n",
        "    def __init__(self):\n",
        "        self.users = []\n",
        "\n",
        "    def is_valid_username(self, uname):\n",
        "        if not(8 <= len(uname) <= 20 and uname.isalnum()):\n",
        "            return False\n",
        "        else:\n",
        "            for user in self.users:\n",
        "                if uname in user:\n",
        "                    return False\n",
        "        return True\n",
        "\n",
        "    def add_user(self, uname):\n",
        "        if self.is_valid_username(uname):\n",
        "            self.users.append([uname])\n",
        "        else:\n",
        "            raise UserNameInvalidException\n",
        "\n",
        "    def get_users(self):\n",
        "        return [user[0] for user in self.users]\n",
        "\n",
        "    def log_activity(self, uname, activity):\n",
        "        for user in self.users:\n",
        "            if uname in user:\n",
        "                new_activity = (activity, time.time())\n",
        "                user.append(new_activity)\n",
        "                return\n",
        "        raise UserNotExistsException\n",
        "\n",
        "    def get_all_activities(self):\n",
        "        all_activities = []\n",
        "        for user in self.users:\n",
        "            for element in user[1:]:\n",
        "                all_activities.append(element)\n",
        "        return all_activities\n",
        "\n",
        "    def get_users_with_many_logins(self, num_logs):\n",
        "        users_with_many_logins = []\n",
        "        for user in self.users:\n",
        "            count_logins = 0\n",
        "            for element in user[1:]:\n",
        "                if \"login\" in element:\n",
        "                    count_logins += 1\n",
        "            if count_logins >= num_logs:\n",
        "                users_with_many_logins.append(user[0])\n",
        "        return users_with_many_logins\n",
        "\n"
      ]
    },
    {
      "cell_type": "markdown",
      "metadata": {
        "id": "hCwGLE16y70p"
      },
      "source": [
        "### Tesztek"
      ]
    },
    {
      "cell_type": "code",
      "execution_count": 3,
      "metadata": {
        "colab": {
          "base_uri": "https://localhost:8080/"
        },
        "id": "-PTtmKoYU8sj",
        "outputId": "2b2545fd-be63-44be-f24c-ee06787d78d3"
      },
      "outputs": [
        {
          "name": "stderr",
          "output_type": "stream",
          "text": [
            "test_is_valid_username (__main__.TestWebActivityLogger1) ... ok\n",
            "test_get_and_add_users (__main__.TestWebActivityLogger1) ... ok\n",
            "test_log_activity (__main__.TestWebActivityLogger1) ... ok\n",
            "test_get_all_activities (__main__.TestWebActivityLogger1) ... ok\n",
            "test_get_users_with_many_logins (__main__.TestWebActivityLogger1) ... ok\n",
            "\n",
            "----------------------------------------------------------------------\n",
            "Ran 5 tests in 0.004s\n",
            "\n",
            "OK\n"
          ]
        },
        {
          "data": {
            "text/plain": [
              "<unittest.runner.TextTestResult run=5 errors=0 failures=0>"
            ]
          },
          "execution_count": 3,
          "metadata": {},
          "output_type": "execute_result"
        }
      ],
      "source": [
        "import unittest\n",
        "\n",
        "class TestWebActivityLogger1(unittest.TestCase):\n",
        "    def test_is_valid_username(self):\n",
        "        wl = WebActivityLogger()\n",
        "        self.assertFalse(wl.is_valid_username(\"ABCDEFG\"))\n",
        "        self.assertFalse(wl.is_valid_username(\"1\"*21))\n",
        "        self.assertFalse(wl.is_valid_username(\"ABCD#EFG\"))\n",
        "        self.assertTrue(wl.is_valid_username(\"ABCDEFGH\"))\n",
        "        self.assertTrue(wl.is_valid_username(\"8\"*20))\n",
        "\n",
        "    def test_get_and_add_users(self):\n",
        "        wl = WebActivityLogger()\n",
        "        self.assertEqual(wl.get_users(), [])\n",
        "        \n",
        "        wl.add_user(\"ABCDEFGH\")\n",
        "        users = wl.get_users()\n",
        "        self.assertEqual(users, [\"ABCDEFGH\"])\n",
        "        \n",
        "        wl.add_user(\"kovacsbela12\")\n",
        "        wl.add_user(\"nemethilona33\")\n",
        "        users = wl.get_users()\n",
        "        self.assertTrue(\"ABCDEFGH\" in users)\n",
        "        self.assertTrue(\"kovacsbela12\" in users)\n",
        "        self.assertTrue(\"nemethilona33\" in users)\n",
        "        self.assertEqual(len(users), 3)\n",
        "\n",
        "        self.assertRaises(UserNameInvalidException, wl.add_user, \"ABCDEFG\")\n",
        "        self.assertRaises(UserNameInvalidException, wl.add_user, \"ABCDEFGH\")\n",
        "\n",
        "    def test_log_activity(self):\n",
        "        wl = WebActivityLogger()\n",
        "        self.assertRaises(UserNotExistsException, wl.log_activity, \"asd12345\", \"edit\")\n",
        "\n",
        "        wl.add_user(\"nemethilona33\")\n",
        "        wl.log_activity(\"nemethilona33\", \"edit\")\n",
        "\n",
        "    def test_get_all_activities(self):\n",
        "        wl = WebActivityLogger()\n",
        "        self.assertEqual(wl.get_all_activities(), [])\n",
        "\n",
        "        wl.add_user(\"nemethilona33\")\n",
        "        wl.log_activity(\"nemethilona33\", \"login\")\n",
        "        wl.log_activity(\"nemethilona33\", \"edit\")\n",
        "        activities = wl.get_all_activities()\n",
        "        self.assertEqual(len(activities), 2)\n",
        "        self.assertEqual(sum((a[0] ==\"login\" for a in activities)), 1)\n",
        "        self.assertEqual(sum((a[0] ==\"edit\" for a in activities)), 1)\n",
        "        \n",
        "        wl.add_user(\"kovacsbela12\")\n",
        "        wl.log_activity(\"kovacsbela12\", \"login\")\n",
        "        wl.log_activity(\"kovacsbela12\", \"logout\")\n",
        "        activities = wl.get_all_activities()\n",
        "        self.assertEqual(len(activities), 4)\n",
        "        self.assertEqual(sum((a[0] ==\"login\" for a in activities)), 2)\n",
        "        self.assertEqual(sum((a[0] ==\"edit\" for a in activities)), 1)\n",
        "        self.assertEqual(sum((a[0] ==\"logout\" for a in activities)), 1)\n",
        "\n",
        "    def test_get_users_with_many_logins(self):\n",
        "        wl = WebActivityLogger()\n",
        "        wl.add_user(\"nemethilona33\")\n",
        "        users_with_many_logins = wl.get_users_with_many_logins(num_logs=0)\n",
        "        self.assertTrue(\"nemethilona33\" in users_with_many_logins)\n",
        "        \n",
        "        wl.log_activity(\"nemethilona33\", \"login\")\n",
        "        wl.log_activity(\"nemethilona33\", \"login\")\n",
        "        users_with_many_logins = wl.get_users_with_many_logins(num_logs=1)\n",
        "        self.assertTrue(\"nemethilona33\" in users_with_many_logins)\n",
        "\n",
        "        wl.add_user(\"kovacsbela12\")\n",
        "        users_with_many_logins = wl.get_users_with_many_logins(num_logs=2)\n",
        "        self.assertEqual(len(users_with_many_logins), 1)\n",
        "       \n",
        "        wl.log_activity(\"kovacsbela12\", \"login\")\n",
        "        users_with_many_logins = wl.get_users_with_many_logins(num_logs=1)\n",
        "        self.assertEqual(len(users_with_many_logins), 2)\n",
        "\n",
        "def suite():\n",
        "    suite = unittest.TestSuite()\n",
        "    testfuns = [\"test_is_valid_username\", \"test_get_and_add_users\", \"test_log_activity\",\n",
        "                \"test_get_all_activities\", \"test_get_users_with_many_logins\"]\n",
        "    [suite.addTest(TestWebActivityLogger1(fun)) for fun in testfuns]\n",
        "    return suite\n",
        "\n",
        "runner = unittest.TextTestRunner(verbosity=2)\n",
        "runner.run(suite())"
      ]
    },
    {
      "cell_type": "markdown",
      "metadata": {
        "id": "3Y9Va15uVdyZ"
      },
      "source": [
        "## B/1\n",
        "\n",
        "**Fals pozitív arány** (False positive rate)\n",
        "\n",
        "Multiclass klasszifikáció esetén a mintaelemeink címkéjét k kategória egyikébe becsüljük (például kutya, macska, papagáj, stb.). Ha a becsléshez neuronhálót használunk, tipikusan, mintaelemenként egy-egy k elemű, valószínűségeket tartalmazó vektort kapunk, ahol az egyes valószínűségek a mintaelem egyes kategóriákba tartozásának valószínűségét reprezentálják. Ha szeretnénk ezekből a vektorokból megmondani, hogy egy-egy mintaelem melyik kategóriába tartozik a legnagyobb valószínűség szerint, akkor elég megmondani minden egyes vektorban a maximális elem indexét. Így megkapjuk a becsült kategóriákat.\n",
        "\n",
        "Klasszifikációs modellek teljesítményének mérésére különböző metrikák léteznek (pl. pontosság - accuracy, precizitás - precision, szenzitivitás - recall, stb.). Az egyes metrikák a teljesítményt csak bizonyos szempontok szerint értékelik, jellemzően, egy modell egyetlen metrikával történő kiértékelése nem ad teljes képet a modell klasszifikációs teljesítményéről.\n",
        "\n",
        "Ebben a feladatban a **Fals pozitív arány** (False positive rate, fall-out, FPR) metrikát kell implementálnod a **multiclass** (kettőnél több kategóriás) **klasszifikáció esetére.** A multiclass fals pozitív arány, kategóriák felett átlagolva, azt adja meg, hogy egy választott kategóriába valójában nem tartozó elemeket milyen arányban soroltunk mégis (hibásan) a választott kategóriába. Minél nagyobb ez az érték, annál rosszabbak a becsléseink.\n",
        "\n",
        "Számolásához a bináris (két kategóriás) esetből indulhatunk ki. Ilyenkor az egyik, választott kategóriánk a pozitív kategória, míg a másik a negatív kategória. A bináris fals pozitív arány így a következő:\n",
        "\n",
        "$$ FPR = \\dfrac{FP}{FP+VN} $$\n",
        "\n",
        "ahol VN a valódi negatívok (azaz ahol a negatív kategóriát helyesen becsültük) száma, FP pedig a fals pozitívok száma (azaz ahol a pozitív kategóriát helytelenül becsültük). A nevező tehát egyenlő azzal, hogy hány elem tartozik valójában a negatív kategóriába.\n",
        "\n",
        "Multiclass esetben minden kategóriára számoljuk a fenti arányt úgy, hogy az aktuális kategória a pozitív kategória és mindegyik másik kategória együttvéve a negatív kategória. Az így, kategóriánként kapott FPR értékeknek az átlaga adja meg a multiclass FPR metrikát.\n",
        "\n",
        "A feladat, hogy implementáld a `false_positive_rate` függvényt, ami két paramétert kap:\n",
        "*   `y_pred` tartalmazza becsült valószínűségeket (ez egy (m, k) alakú tömb, ahol  m  a mintaelemek és  k  a kategóriák száma) \n",
        "*   `y_true` tartalmazza az igazi kategóriacímkéket (ez egy (m,) alakú tömb)\n",
        "\n",
        "A függvény egy számot ad vissza, a kategóriákra egyenként számolt bináris FPR értékek átlagát.\n",
        "\n",
        "**Kikötés:**  Az implementációt vektoros módon, NumPy-ban, ciklusok és egyéb, annak megfelelő Python konstrukciók használata nélkül kell elkészíteni. További részletek a notebook végén."
      ]
    },
    {
      "cell_type": "markdown",
      "metadata": {
        "id": "jF0ZxXboelmH"
      },
      "source": [
        "### Megoldás"
      ]
    },
    {
      "cell_type": "code",
      "execution_count": 4,
      "metadata": {
        "id": "A8r_68tiAoi4"
      },
      "outputs": [],
      "source": [
        "import numpy as np\n",
        "\n",
        "# Your solution ->\n",
        "\n",
        "def false_positive_rate(y_pred, y_true):\n",
        "    prediction_labels = np.argmax(y_pred, axis=1)\n",
        "    \n",
        "    one_hot_encoding_prediction_labels = np.zeros((prediction_labels.size, prediction_labels.max()+1))\n",
        "    one_hot_encoding_prediction_labels[np.arange(prediction_labels.size), prediction_labels] = 1\n",
        "\n",
        "    one_hot_encoding_true_labels = np.zeros((y_true.size, y_true.max()+1))\n",
        "    one_hot_encoding_true_labels[np.arange(y_true.size), y_true] = 1\n",
        "    \n",
        "    fp_values = np.count_nonzero(np.logical_and(one_hot_encoding_prediction_labels == 1., one_hot_encoding_true_labels == 0.), axis=0)\n",
        "    vn_values = np.count_nonzero(np.logical_and(one_hot_encoding_prediction_labels == 0., one_hot_encoding_true_labels == 0.), axis=0)\n",
        "    fpr = np.sum(np.where(fp_values == 0, 0, fp_values / (fp_values + vn_values))) / fp_values.size\n",
        "\n",
        "    return fpr\n",
        "\n"
      ]
    },
    {
      "cell_type": "markdown",
      "metadata": {
        "id": "krOCmkzUengK"
      },
      "source": [
        "### Tesztek"
      ]
    },
    {
      "cell_type": "code",
      "execution_count": 5,
      "metadata": {
        "colab": {
          "base_uri": "https://localhost:8080/"
        },
        "id": "G-ITMUz8WmX9",
        "outputId": "66de0a7a-f98a-4383-93d7-068c10a631cb"
      },
      "outputs": [
        {
          "name": "stderr",
          "output_type": "stream",
          "text": [
            "test_two_classes (__main__.TestFPR) ... ok\n",
            "test_three_classes (__main__.TestFPR) ... ok\n",
            "test_four_classes (__main__.TestFPR) ... ok\n",
            "\n",
            "----------------------------------------------------------------------\n",
            "Ran 3 tests in 0.003s\n",
            "\n",
            "OK\n"
          ]
        },
        {
          "data": {
            "text/plain": [
              "<unittest.runner.TextTestResult run=3 errors=0 failures=0>"
            ]
          },
          "execution_count": 5,
          "metadata": {},
          "output_type": "execute_result"
        }
      ],
      "source": [
        "import unittest\n",
        "\n",
        "class TestFPR(unittest.TestCase):\n",
        "\n",
        "    def test_two_classes(self):\n",
        "        two_class_preds = np.array([[0.4, 0.6], [0.8, 0.2], [0.55, 0.45], [0.1, 0.9]])\n",
        "        two_class_labels = np.array([0,0,1,1])\n",
        "        self.assertAlmostEqual(false_positive_rate(two_class_preds, two_class_labels), 0.5)\n",
        "\n",
        "    def test_three_classes(self):\n",
        "        three_class_preds = np.array([[0.4, 0.3, 0.3], [0.1, 0.5, 0.4], \n",
        "                                     [0.3, 0.2, 0.5], [0.4, 0.25, 0.35]])  # [0,1,2,0]\n",
        "        three_class_labels = np.array([0, 1, 2, 2])\n",
        "        self.assertAlmostEqual(false_positive_rate(three_class_preds, three_class_labels), 1/9)\n",
        "\n",
        "    def test_four_classes(self):\n",
        "        four_class_preds = np.array([[1., 0., 0., 0.], [1., 0., 0., 0.], \n",
        "                                     [0., 0., 1., 0.], [0., 0., 1., 0.],\n",
        "                                     [0., 1., 0., 0.], [0., 0., 0., 1.],\n",
        "                                     ])  # [0,0,2,2,1,3]\n",
        "        four_class_labels = np.array([0, 2, 1, 1, 1, 3])\n",
        "        self.assertAlmostEqual(false_positive_rate(four_class_preds, four_class_labels), 3/20)\n",
        "\n",
        "def suite():\n",
        "    suite = unittest.TestSuite()\n",
        "    testfuns = [\"test_two_classes\", \"test_three_classes\", \"test_four_classes\"]\n",
        "    [suite.addTest(TestFPR(fun)) for fun in testfuns]\n",
        "    return suite\n",
        "\n",
        "runner = unittest.TextTestRunner(verbosity=2)\n",
        "runner.run(suite())"
      ]
    },
    {
      "cell_type": "markdown",
      "metadata": {
        "id": "plJR1vN4vuSY"
      },
      "source": [
        "## C/2\n",
        "\n",
        "**Sudoku**\n",
        "\n",
        "Készíts egy **SudokuBoard** nevű osztályt, ami a Sudoku táblát reprezentálja! A Sudoku egy 9x9-es tábla, ami 3x3-as blokkokra van osztva a sorok és oszlopok mentén. 1-től 9-ig kell elhelyeznünk a számokat úgy, hogy minden sorban, oszlopban, és blokkban a számok egyszer szerepeljenek.\n",
        "\n",
        "Emellett az osztály a következő tagfüggvényekkel kell, hogy rendelkezzen:\n",
        "\n",
        "*   `can_place(row_idx, col_idx, number) -> bool` : a függvény egy logikai értéket ad vissza, mely megadja, hogy a Sudoku szabályai szerint elhelyezhető-e a `number` szám a tábla `col_idx`, `row_idx` pozícióján. A sorok és oszlopok indexelése nullától kezdődik.\n",
        "*   `place(row_idx, col_idx, number) -> bool` : a függvény működése azonos az előző függvényével, azt leszámítva, hogy ha a megadott szám elhelyezhető a tábla megadott pozícióján, akkor ez a függvény el is helyezi azt.\n",
        "*   `get_block_idx_with_highest_sum() -> (int, int)` : a függvény megadja annak a 3x3-as blokknak az indexét, melyben a beírt számok összege maximális. Ha több ilyen van, az egyiket kell visszadni közülük. A blokk indexét a tábla tengelyeinek megfelelően adja meg egy kételemű tuple-ben, azaz először a blokkokra vonatkozó sorindexet, majd a blokkokra vonatkozó oszlopindexet. Ha mátrixokként tekintünk a táblára, akkor például a bal alsó blokk indexe ``(2, 0)`` lesz.\n",
        "*   `get_num_rows_where_number_is_present(number) -> int` : a függvény megadja hány darab olyan sor van, amiben a paraméterben megadott `number` szám szerepel.\n",
        "*   `get_empty_col_idxs() -> ndarray(n_cols_ret,) of int32` : a függvény egy egydimenziós tömbben visszaadja azoknak az oszlopoknak az indexét, melyekbe még nem került szám.\n",
        "*   `get_max_of_rows_where_num_is_present(number) -> int` : a függvény visszadja azoknak a soroknak az együttesen vett maximumát, melyekben szerepel a ``number`` szám. Amennyiben a ``number`` szám nem szerpel a táblában, adjon 0 értéket vissza a függvény!\n",
        "\n",
        "**Kikötés:**  Az implementációt vektoros módon, NumPy-ban, ciklusok és egyéb, annak megfelelő Python konstrukciók használata nélkül kell elkészíteni. További részletek a notebook végén.\n",
        "\n",
        "\n"
      ]
    },
    {
      "cell_type": "markdown",
      "metadata": {
        "id": "DK98EEqKfEPY"
      },
      "source": [
        "### Megoldás"
      ]
    },
    {
      "cell_type": "code",
      "execution_count": 6,
      "metadata": {
        "id": "G17GP-KonQRz"
      },
      "outputs": [],
      "source": [
        "import numpy as np\n",
        "\n",
        "# Your solution ->\n",
        "\n",
        "class SudokuBoard:\n",
        "    def __init__(self):\n",
        "        self.table = np.zeros((9, 9), dtype=int)\n",
        "\n",
        "    def can_place(self, row_idx, col_idx, number):\n",
        "        if not(1 <= number <= 9):\n",
        "            return False\n",
        "        if self.table[row_idx, col_idx] != 0:\n",
        "            return False\n",
        "\n",
        "        row_values = np.unique(self.table[row_idx, :])\n",
        "        col_values = np.unique(self.table[:, col_idx])\n",
        "\n",
        "        sub_board_row_end_idx = int(np.ceil((row_idx+1)/3)*3)\n",
        "        sub_board_col_end_idx = int(np.ceil((col_idx+1)/3)*3)\n",
        "        sub_board_values = np.unique(self.table[sub_board_row_end_idx-3:sub_board_row_end_idx, sub_board_col_end_idx-3:sub_board_col_end_idx])\n",
        "        \n",
        "        row_col_sub_board_values = np.unique(np.concatenate((row_values, col_values, sub_board_values), axis=0))\n",
        "\n",
        "        return False if number in row_col_sub_board_values else True\n",
        "\n",
        "    def place(self, row_idx, col_idx, number):\n",
        "        if self.can_place(row_idx, col_idx, number):\n",
        "            self.table[row_idx, col_idx] = number\n",
        "            return True\n",
        "        return False\n",
        "\n",
        "    def get_block_idx_with_highest_sum(self):\n",
        "        sub_board_sum_values = self.table.reshape(3, 3, 3, 3).swapaxes(1, 2).reshape(-1, 3, 3).sum((1, 2)).reshape(3, 3)\n",
        "        idx = np.unravel_index(np.argmax(sub_board_sum_values, axis=None), sub_board_sum_values.shape)\n",
        "        return idx\n",
        "\n",
        "    def get_num_rows_where_number_is_present(self, number):\n",
        "        return np.sum(np.count_nonzero(self.table == number, axis=1))\n",
        "\n",
        "    def get_empty_col_idxs(self):\n",
        "        return np.where(np.count_nonzero(self.table == 0, axis=0) == self.table[0].size)[0]\n",
        "\n",
        "    def get_max_of_rows_where_num_is_present(self, number):\n",
        "        rows = np.where(self.table[:,] == number)[0]\n",
        "        if rows.size == 0:\n",
        "            max_of_rows = 0\n",
        "        else:\n",
        "            max_of_rows = np.amax(np.amax(self.table[rows], axis=1))\n",
        "        return max_of_rows\n",
        "\n"
      ]
    },
    {
      "cell_type": "markdown",
      "metadata": {
        "id": "6qnKnP2ZfHmd"
      },
      "source": [
        "### Tesztek"
      ]
    },
    {
      "cell_type": "code",
      "execution_count": 7,
      "metadata": {
        "colab": {
          "base_uri": "https://localhost:8080/"
        },
        "id": "8wzTG51TEExB",
        "outputId": "09ea65ba-3064-455f-bfb1-c55e3c2ad3c2"
      },
      "outputs": [
        {
          "name": "stderr",
          "output_type": "stream",
          "text": [
            "test_can_place (__main__.TestSudoku) ... ok\n",
            "test_place (__main__.TestSudoku) ... ok\n",
            "test_get_block_idx_with_highest_sum (__main__.TestSudoku) ... ok\n",
            "test_get_num_rows_where_number_is_present (__main__.TestSudoku) ... ok\n",
            "test_get_empty_col_idxs (__main__.TestSudoku) ... ok\n",
            "test_get_max_of_rows_where_num_is_present (__main__.TestSudoku) ... ok\n",
            "\n",
            "----------------------------------------------------------------------\n",
            "Ran 6 tests in 0.013s\n",
            "\n",
            "OK\n"
          ]
        },
        {
          "data": {
            "text/plain": [
              "<unittest.runner.TextTestResult run=6 errors=0 failures=0>"
            ]
          },
          "execution_count": 7,
          "metadata": {},
          "output_type": "execute_result"
        }
      ],
      "source": [
        "import unittest\n",
        "\n",
        "class TestSudoku(unittest.TestCase):\n",
        "    def test_can_place(self):\n",
        "        sb = SudokuBoard()\n",
        "        self.assertTrue(sb.can_place(0, 0, 5))\n",
        "        self.assertTrue(sb.can_place(8, 0, 5))\n",
        "        self.assertTrue(sb.can_place(0, 8, 5))\n",
        "        self.assertTrue(sb.can_place(4, 6, 5))\n",
        "        self.assertTrue(sb.can_place(8, 8, 5))\n",
        "\n",
        "        sb.place(3, 3, 5)\n",
        "        self.assertFalse(sb.can_place(3, 3, 7))\n",
        "        self.assertFalse(sb.can_place(5, 4, 5))\n",
        "        self.assertFalse(sb.can_place(7, 3, 5))\n",
        "        self.assertFalse(sb.can_place(3, 7, 5))\n",
        "        \n",
        "        self.assertTrue(sb.can_place(2, 4, 5))\n",
        "        self.assertTrue(sb.can_place(3, 4, 6))\n",
        "\n",
        "    def test_place(self):\n",
        "        sb = SudokuBoard()\n",
        "        self.assertTrue(sb.place(2, 7, 4))\n",
        "        self.assertFalse(sb.place(2, 7, 4))\n",
        "        self.assertFalse(sb.place(2, 7, 5))\n",
        "        self.assertTrue(sb.place(2, 0, 5))\n",
        "        self.assertFalse(sb.place(2, 8, 5))\n",
        "\n",
        "    def test_get_block_idx_with_highest_sum(self):\n",
        "        sb = SudokuBoard()\n",
        "        sb.place(7, 7, 1)\n",
        "        self.assertEqual(sb.get_block_idx_with_highest_sum(), (2, 2))\n",
        "        \n",
        "        to_insert = [(1, 0, 3), (2, 7, 3), (2, 1, 4), (5, 8, 4), (8, 0, 4), (3, 7, 8)]\n",
        "        [sb.place(*t) for t in to_insert]\n",
        "        self.assertEqual(sb.get_block_idx_with_highest_sum(), (1, 2))\n",
        "        \n",
        "        to_insert = [(1, 4, 9), (3, 2, 6), (3, 3, 7), (8, 5, 1), (8, 8, 2), (5, 3, 9)]\n",
        "        [sb.place(*t) for t in to_insert]\n",
        "        self.assertEqual(sb.get_block_idx_with_highest_sum(), (1, 1))\n",
        "\n",
        "    def test_get_num_rows_where_number_is_present(self):\n",
        "        sb = SudokuBoard()\n",
        "        self.assertEqual(sb.get_num_rows_where_number_is_present(9), 0)\n",
        "        self.assertEqual(sb.get_num_rows_where_number_is_present(1), 0)\n",
        "        \n",
        "        to_insert = [(1, 0, 3), (2, 7, 3), (2, 1, 4), (5, 8, 4), (8, 0, 4), (3, 7, 8)]\n",
        "        [sb.place(*t) for t in to_insert]\n",
        "        self.assertEqual(sb.get_num_rows_where_number_is_present(9), 0)\n",
        "        self.assertEqual(sb.get_num_rows_where_number_is_present(3), 2)\n",
        "        self.assertEqual(sb.get_num_rows_where_number_is_present(4), 3)\n",
        "        self.assertEqual(sb.get_num_rows_where_number_is_present(8), 1)\n",
        "\n",
        "    def test_get_empty_col_idxs(self):\n",
        "        sb = SudokuBoard()\n",
        "        ret = sb.get_empty_col_idxs()\n",
        "        self.assertEqual(ret.shape, (9,))\n",
        "        self.assertEqual(tuple(np.sort(ret)), tuple(range(9)))\n",
        "\n",
        "        to_insert = [(1, 0, 3), (2, 7, 3), (2, 1, 4), (5, 8, 4), (8, 0, 4), (3, 7, 8)]\n",
        "        [sb.place(*t) for t in to_insert]\n",
        "        ret = sb.get_empty_col_idxs()\n",
        "        self.assertEqual(ret.shape, (5,))\n",
        "        self.assertEqual(tuple(np.sort(ret)), (2,3,4,5,6))\n",
        "\n",
        "        to_insert = [(1, 4, 9), (3, 2, 6), (3, 3, 7), (8, 5, 1), (8, 8, 2)]\n",
        "        [sb.place(*t) for t in to_insert]\n",
        "        ret = sb.get_empty_col_idxs()\n",
        "        self.assertEqual(ret.shape, (1,))\n",
        "        self.assertEqual(tuple(ret), (6,))\n",
        "\n",
        "    def test_get_max_of_rows_where_num_is_present(self):\n",
        "        sb = SudokuBoard()\n",
        "        self.assertEqual(sb.get_max_of_rows_where_num_is_present(4), 0)\n",
        "        self.assertEqual(sb.get_max_of_rows_where_num_is_present(9), 0)\n",
        "\n",
        "        to_insert = [(1, 0, 3), (2, 7, 3), (2, 1, 4), (5, 8, 4), (8, 0, 4), (3, 7, 8)]\n",
        "        [sb.place(*t) for t in to_insert]\n",
        "        self.assertEqual(sb.get_max_of_rows_where_num_is_present(4), 4)\n",
        "        self.assertEqual(sb.get_max_of_rows_where_num_is_present(3), 4)\n",
        "        self.assertEqual(sb.get_max_of_rows_where_num_is_present(8), 8)\n",
        "        self.assertEqual(sb.get_max_of_rows_where_num_is_present(7), 0)\n",
        "\n",
        "        to_insert = [(1, 4, 9), (3, 2, 6), (3, 3, 7), (8, 5, 1), (8, 8, 2)]\n",
        "        [sb.place(*t) for t in to_insert]\n",
        "        self.assertEqual(sb.get_max_of_rows_where_num_is_present(5), 0)\n",
        "        self.assertEqual(sb.get_max_of_rows_where_num_is_present(3), 9)\n",
        "        self.assertEqual(sb.get_max_of_rows_where_num_is_present(4), 4)\n",
        "        self.assertEqual(sb.get_max_of_rows_where_num_is_present(6), 8)\n",
        "        self.assertEqual(sb.get_max_of_rows_where_num_is_present(1), 4)\n",
        "        \n",
        "def suite():\n",
        "    suite = unittest.TestSuite()\n",
        "    testfuns = [\"test_can_place\", \"test_place\", \"test_get_block_idx_with_highest_sum\",\n",
        "                \"test_get_num_rows_where_number_is_present\", \"test_get_empty_col_idxs\",\n",
        "                \"test_get_max_of_rows_where_num_is_present\"]\n",
        "    [suite.addTest(TestSudoku(fun)) for fun in testfuns]\n",
        "    return suite\n",
        "\n",
        "runner = unittest.TextTestRunner(verbosity=2)\n",
        "runner.run(suite())"
      ]
    },
    {
      "cell_type": "markdown",
      "metadata": {
        "id": "3HdyBYcek5CS"
      },
      "source": [
        "# Kikötések"
      ]
    },
    {
      "cell_type": "markdown",
      "metadata": {
        "id": "_izN28TUZqtp"
      },
      "source": [
        "A hatékony, vektoros NumPy megvalósításhoz minimálisra kell csökkenteni a Python parancsok számát a kódban. Például, ha egy ciklusban hívunk NumPy függvényeket és a ciklus több milliószor lefut, az tipikusan jóval kevésbé hatékony, mint ha a Python ciklust megfelelő, vektorizált NumPy hívásokkal ki tudjuk váltani és a szkript lefutása során mindössze néhány, egyszerre nagyobb mennyiségű adaton operáló NumPy hívás fut le.\n",
        "\n",
        "A ciklusok mellett az azt helyettesítő Python műveletek hatása is hasonló: a list/set/dict comprehension-ök, a `map(), filter()` függvények megvalósítása ugyancsak ciklussal történik. A NumPy-ban elérhető `np.apply_along_axis()` művelet egy adott n dimenziós tömbön operáló műveletet ismétel meg egy n+1 dimenziós tömb n dimenziós szeletein, majd összekonkatenálja az eredményt. Bár ezzel a művelettel kiváltható a Python ciklus használata, de sok esetben ez nem hatékony, így ilyenkor kerülendő ez a megközelítés. Például, ha az `np.apply_along_axis()` műveletnek megadott, ciklusban végrehajtott függvény Python változókat, vagy függvényeket használ, a megvalósítás nem lesz hatékonyabb egy egyszerű Python ciklusnál.\n",
        "\n",
        "**Kikötések a 2. és 3. feladathoz:** \n",
        "* Nem használhatók Python ciklusok, comprehension-ök és generátorok (azaz tiltott a `for` és a `while` kulcsszavak használata).\n",
        "* A feladatok nem oldhatók meg rekurzió segítségével.\n",
        "* Nem használhatók a `map()` és `filter()` beápített függvények.\n",
        "* Nem használhatók a következő, Python ciklust megvalósító, nem hatékony NumPy függvények: `np.apply_along_axis()`, `np.apply_over_axes()`, `np.vectorize()`, `np.frompyfunc()`.\n",
        "* Bár a megoldásban nem kell más méretű táblákat kezelni, de a megoldás módjának skálázhatónak kell lennie a sorok, oszlopok száma (és a beléjük írható számjegyek száma) szerint. Azaz, nem elfogadható az a megközelítés, hogy ha kilenc fajta számjegyen szeretnénk végigiterálni, akkor a ciklus használatát úgy kerüljük el, hogy a kilenc számjegyet kilenc külön utasítással kezeljük, hiszen ekkor több sor/oszlop/számjegy esetén több sornyi kódra lenne szükségünk.\n"
      ]
    }
  ],
  "metadata": {
    "colab": {
      "collapsed_sections": [
        "C0ENgnmqkwqn"
      ],
      "name": "I. Kotelezo HF",
      "provenance": []
    },
    "kernelspec": {
      "display_name": "Python 3",
      "name": "python3"
    },
    "language_info": {
      "codemirror_mode": {
        "name": "ipython",
        "version": 3
      },
      "file_extension": ".py",
      "mimetype": "text/x-python",
      "name": "python",
      "nbconvert_exporter": "python",
      "pygments_lexer": "ipython3",
      "version": "3.9.7"
    }
  },
  "nbformat": 4,
  "nbformat_minor": 0
}
